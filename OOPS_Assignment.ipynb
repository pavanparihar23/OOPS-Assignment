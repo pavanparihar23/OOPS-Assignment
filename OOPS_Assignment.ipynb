{
  "nbformat": 4,
  "nbformat_minor": 0,
  "metadata": {
    "colab": {
      "provenance": []
    },
    "kernelspec": {
      "name": "python3",
      "display_name": "Python 3"
    },
    "language_info": {
      "name": "python"
    }
  },
  "cells": [
    {
      "cell_type": "markdown",
      "source": [
        "Ques-1  What is Object-Oriented Programming oops?\n",
        "\n",
        "Ans-1  Object-Oriented Programming (OOP) is a programming paradigm that uses objects and classes to organize and structure code. It focuses on representing real-world entities and their interactions in a way that is easy to understand, maintain, and extend.\n",
        "\n",
        "Oues-2 What is a class in OOP?\n",
        "\n",
        "Ans-2 A class is a blueprint or template for creating objects. It defines the attributes (also called properties or fields) and methods (functions or behaviors) that the objects created from the class will have.\n",
        "\n",
        "Ques-3 What is an object in OOP?\n",
        "\n",
        "Ans-3 An object is an instance of a class. It is a concrete representation of the class, containing actual data values for the attributes and capable of performing the methods defined in the class.\n",
        "\n",
        "Ques-4 What is the difference between abstraction and encapsulation?\n",
        "\n",
        "Ans-4 Abstraction and Encapsulation are both fundamental concepts in Object-Oriented Programming (OOP), and while they are closely related, they serve different purposes and focus on different aspects of how we design and structure code.\n",
        "\n",
        "1. Abstraction\n",
        "Abstraction is the concept of hiding the complexity and showing only the essential features of an object. It allows us to focus on what an object does, rather than how it does it.\n",
        "\n",
        ">Purpose: To hide the internal workings and implementation details of an object and only expose the relevant parts to the user.\n",
        "\n",
        ">What it achieves: It simplifies the user interface by hiding unnecessary details and focusing on what the object represents and what it can do.\n",
        "\n",
        ">How it’s achieved: Through abstract classes, interfaces, and abstract methods. These mechanisms allow defining a common structure while leaving out the implementation details for subclasses or implementing classes to define.\n",
        "\n",
        "2.Encapsulation\n",
        "Encapsulation is the concept of bundling data (attributes) and methods (functions) that operate on the data within one unit, typically a class, and restricting access to some of the object's components. It is the concept of data hiding and controlling access to the internal state of the object.\n",
        "\n",
        ">Purpose: To restrict direct access to an object's attributes and protect the integrity of the object’s state. It helps ensure that data is not modified in unexpected or unintended ways.\n",
        "\n",
        ">What it achieves: It provides a controlled interface to the object, allowing only certain methods to change the state of the object, thereby preventing unauthorized or accidental modifications.\n",
        "\n",
        ">How it’s achieved: By using private and protected attributes (via naming conventions) and providing public getter and setter methods to access and modify the data.\n",
        "\n",
        "Ques-5 What are dunder methods in Python?\n",
        "\n",
        "Ans-5 Dunder methods (also known as magic methods or special methods) in Python are methods that begin and end with two underscores (__). They are predefined methods in Python that allow you to define how objects of a class behave with certain operators or functions.\n",
        "\n",
        "These methods allow you to define behaviors for a wide range of operations, such as arithmetic operations, comparisons, string representations, and more, allowing your custom classes to behave similarly to built-in Python types.\n",
        "\n",
        "Ques-6 Explain the concept of inheritance in OOPF.\n",
        "\n",
        "Ans-6 Inheritance is one of the fundamental concepts of Object-Oriented Programming (OOP), which allows a new class to acquire the properties and behaviors (i.e., fields and methods) of an existing class. This helps in promoting reusability and extensibility of code. Inheritance models a \"is-a\" relationship between classes.\n",
        "\n",
        "Key Concepts of Inheritance:\n",
        ">Parent (Base) Class: This is the class that is being inherited from. It contains common attributes and methods that are shared by the child class.\n",
        "\n",
        ">Child (Derived) Class: This is the class that inherits from the parent class. It can access the public and protected attributes and methods of the parent class. The child class can also extend or override methods and properties from the parent class.\n",
        "\n",
        ">Reusability: The child class inherits the code of the parent class, so you don’t have to rewrite the same code again. This makes your program more efficient and easier to maintain.\n",
        "\n",
        ">Extensibility: The child class can add new properties and methods or modify the behavior of the inherited ones, allowing it to extend the functionality of the parent class without changing the base class.\n",
        "\n",
        "Types of Inheritance:\n",
        "\n",
        "Single Inheritance: A class inherits from one parent class.\n",
        "\n",
        "Multiple Inheritance: A class inherits from more than one parent class.\n",
        "\n",
        "Multilevel Inheritance: A class inherits from a child class, forming a chain.\n",
        "\n",
        "Hierarchical Inheritance: Multiple classes inherit from a single parent class.\n",
        "\n",
        "Hybrid Inheritance: A combination of more than one type of inheritance.\n",
        "\n",
        "Ques-7 What is polymorphism in OOP?\n",
        "\n",
        "Ans-7 Polymorphism is another core concept in Object-Oriented Programming (OOP), and it refers to the ability of different objects to respond to the same method or message in different ways. The term \"polymorphism\" is derived from the Greek words \"poly\" (meaning many) and \"morph\" (meaning forms). Essentially, polymorphism allows objects of different classes to be treated as objects of a common superclass, and the specific method that gets executed is determined at runtime, depending on the object's actual class.\n",
        "\n",
        "Ques-8 How is encapsulation achieved in Python?\n",
        "\n",
        "Ans-8 Encapsulation is one of the key principles of Object-Oriented Programming (OOP), and it refers to the concept of bundling the data (attributes) and methods (functions) that operate on the data into a single unit or class. Encapsulation also hides the internal state of an object and only exposes the necessary functionality to the outside world, protecting the object's data from unintended interference and misuse.\n",
        "\n",
        "In Python, encapsulation is achieved primarily through the use of classes, and it is enforced by controlling access to an object's attributes and methods using access modifiers (public, protected, and private).\n",
        "\n",
        "How Encapsulation Works in Python:\n",
        "\n",
        "1.Public Attributes and Methods:\n",
        "\n",
        "In Python, attributes and methods are public by default, meaning they can be accessed directly from outside the class.\n",
        "\n",
        "2.Private Attributes and Methods:\n",
        "\n",
        "Python does not have strict enforcement of private variables like some other languages (e.g., Java, C++), but it allows you to \"suggest\" that an attribute or method should not be accessed directly by prefixing its name with double underscores (__).\n",
        "\n",
        "When you do this, Python name-mangles the attribute name to make it harder (but not impossible) to access from outside the class. For example, a private attribute __balance would be stored as _ClassName__balance internally.\n",
        "\n",
        "3.Protected Attributes and Methods:\n",
        "\n",
        "Python uses a single underscore (_) as a convention to indicate that an attribute or method is protected. While not strictly private, it suggests that the attribute or method is for internal use and should not be accessed directly from outside the class.\n",
        "\n",
        "4.Getter and Setter Methods:\n",
        "\n",
        "Python allows you to create getter and setter methods to provide controlled access to private attributes. These methods allow you to define logic for getting and setting the values of private attributes, enabling controlled access to the data.\n",
        "\n",
        "Benefits of Encapsulation:\n",
        "Data Hiding: It hides the internal state and implementation details of an object, exposing only the necessary information. This protects the object from unintended changes or misuse.\n",
        "\n",
        "Controlled Access: Through getters and setters, we can control how data is accessed and modified. This allows for validation, logging, and other necessary actions to ensure consistency.\n",
        "\n",
        "Modularity: Encapsulation encourages modularity, as each class can focus on its own functionality and maintain its internal state privately, without exposing unnecessary implementation details to the outside world.\n",
        "\n",
        "Maintainability: Encapsulation makes code easier to maintain and evolve. Internal implementation can change without affecting external code that relies on the class, as long as the public interface remains the same.\n",
        "\n",
        "Ques-9 What is a constructor in Python?\n",
        "\n",
        "Ans-9 A constructor is a special method used to initialize the state of an object when it is created. It is automatically called when an instance (object) of a class is created, allowing you to set initial values for the object's attributes and perform any setup that might be necessary.\n",
        "\n",
        "The Constructor in Python:\n",
        "In Python, the constructor is defined using the special method __init__().\n",
        "\n",
        "The __init__() method is not explicitly called, but it is invoked automatically when a new object of the class is instantiated.\n",
        "\n",
        "The constructor's primary purpose is to initialize the object's attributes with the provided values and to set up any necessary initial conditions for the object.\n",
        "\n",
        "Ques-10 What are class and static methods in Python?\n",
        "\n",
        "Ans-10 Class methods and static methods are two types of methods that can be defined in a class. They differ in how they interact with the class and its instances.\n",
        "\n",
        "1. Class Method:\n",
        "A class method is a method that is bound to the class rather than its instances. It can access and modify the class state (i.e., class variables), but it cannot access or modify instance-specific data.\n",
        "\n",
        "2. Static Method:\n",
        "A static method is a method that does not take a self (instance) or cls (class) argument. It behaves like a regular function but belongs to the class's namespace. Static methods can't access or modify the class or instance state. They are used when you want to include a function in a class that doesn't need access to the instance or class attributes.\n",
        "\n",
        "Ques-11 What is method overloading in Python?\n",
        "\n",
        "Ans-11 method overloading refers to the ability to define multiple methods with the same name but different signatures (i.e., different numbers or types of arguments) within a class. However, Python does not directly support method overloading like other languages (e.g., Java or C++). In Python, if you define multiple methods with the same name, the latest definition will overwrite the previous ones.\n",
        "Despite this limitation, method overloading can still be simulated using default arguments, variable-length arguments (*args, **kwargs), or conditional checks within a single method.\n",
        "\n",
        "Ques-12 What is method overriding in OOP?\n",
        "\n",
        "Ans-12 Method overriding is a concept in Object-Oriented Programming (OOP) where a subclass (child class) provides its own implementation of a method that is already defined in its superclass (parent class). The method in the subclass overrides the method in the superclass, allowing the subclass to modify or extend the behavior of the inherited method.\n",
        "\n",
        "Ques-13 What is a property decorator in Python?\n",
        "\n",
        "Ans-13 The property decorator is used to define methods that can be accessed like attributes. It allows you to define getter, setter, and deleter methods for an attribute, but access them in a way that looks like regular attributes rather than method calls. This provides a clean and encapsulated way to control access to an object's attributes while still maintaining the simplicity of attribute access syntax.\n",
        "\n",
        "Ques-14 Why is polymorphism important in OOP?\n",
        "\n",
        "Ans-14 Polymorphism is one of the key concepts in Object-Oriented Programming (OOP), and it refers to the ability of different objects to respond to the same method or message in different ways. The term comes from Greek, where \"poly\" means \"many\" and \"morph\" means \"form\" — so it literally means \"many forms.\"\n",
        "\n",
        "Polymorphism allows different classes or objects to share a common interface (method signature) but have their own specific implementations. This flexibility enables code to be more generalized, reusable, and easier to maintain.\n",
        "\n",
        "Why Polymorphism is Important in OOP:\n",
        "\n",
        "1. Code Reusability: Polymorphism allows for writing code that can work with objects of different classes through a common interface. This means you can write more generic functions and methods that operate on objects of different types without needing to know the specific type of the object.\n",
        "\n",
        "2. Flexibility and Maintainability: Polymorphism provides the flexibility to extend or change the behavior of objects without changing the code that uses these objects. For example, new subclasses can be created with specific implementations of methods without altering the code that interacts with those objects.\n",
        "\n",
        "3. Simplified Code: Without polymorphism, you would need to check the type of an object explicitly and then handle it accordingly using conditionals (like if statements). Polymorphism simplifies this, allowing you to treat different object types uniformly. This results in cleaner, more understandable code.\n",
        "\n",
        "4. Enhanced Extensibility: Polymorphism promotes extensibility in your programs. When new requirements emerge, you can extend your classes by adding new subclasses and methods, and existing code can use the new subclasses without modification. This is especially important in large systems where you may need to introduce new features over time.\n",
        "\n",
        "5. Decoupling Code: By using polymorphism, you can decouple the code that uses objects from the code that defines the objects. This means the user of the object doesn’t need to know its specific class type to interact with it — they just need to know the common interface. This reduces dependencies and makes the system more modular.\n",
        "\n",
        "6. Enabling Abstraction: Polymorphism allows abstraction, which is another important OOP principle. With polymorphism, you can work with abstract classes or interfaces, which define a common structure for different derived classes. This is important when you want to hide the specific details of implementation from the user and only expose the essential features.\n",
        "\n",
        "Ques-15 What is an abstract class in Python?\n",
        "\n",
        "Ans-15 An abstract class in Python is a class that cannot be instantiated directly. It serves as a blueprint for other classes, allowing you to define methods that must be implemented by subclasses. Abstract classes are used when you want to define common interfaces or functionality that should be shared by multiple classes, but you don't want to provide complete implementations in the abstract class itself.\n",
        "\n",
        "In Python, abstract classes are defined using the abc (Abstract Base Class) module, which provides tools to create abstract classes and enforce that subclasses implement certain methods.\n",
        "\n",
        "Ques-16 What are the advantages of OOP?\n",
        "\n",
        "Ans-16 Object-Oriented Programming (OOP) offers several advantages that make it a widely adopted paradigm in software development. The key benefits of OOP include:\n",
        "\n",
        "1. Modularity\n",
        "\n",
        "Encapsulation: OOP promotes modularity by dividing the code into smaller, self-contained units called objects. Each object is a bundle of data (attributes) and methods (functions) that operate on that data. This modular structure allows developers to work on individual objects independently, making the code easier to understand and maintain.\n",
        "\n",
        "Separation of concerns: Objects and classes can represent distinct functionalities or features of a system, making it clear what each part of the program does.\n",
        "\n",
        "2. Reusability\n",
        "\n",
        "Inheritance: In OOP, classes can inherit properties and behaviors (methods) from other classes. This allows you to reuse code and avoid duplication, making the development process more efficient. For example, a subclass can inherit attributes and methods from a superclass and modify or extend them as needed.\n",
        "\n",
        "Extensibility: As new requirements emerge, you can create new classes that extend existing ones. This helps in adding new functionality without altering existing code.\n",
        "\n",
        "3. Maintainability\n",
        "\n",
        "Easier maintenance: Since objects are self-contained and interact through well-defined interfaces (methods), it's easier to locate and fix bugs in specific parts of the code. Changes in one part of the system (e.g., a class) do not directly affect others, as long as the interface remains the same.\n",
        "\n",
        "Code modification: Inheritance and polymorphism allow code to be extended without modifying the existing working code. This supports the principle of \"open/closed,\" meaning the system is open for extension but closed for modification.\n",
        "\n",
        "4. Scalability\n",
        "\n",
        "OOP supports the design of scalable systems. You can easily add new features or objects to the system without having to rework the entire codebase. The ability to extend existing classes through inheritance and create new objects as needed makes it easier to scale applications as they grow.\n",
        "\n",
        "5. 5. Abstraction\n",
        "\n",
        "Hiding implementation details: OOP allows the concept of abstraction, where the internal workings of an object (its data and implementation) are hidden from the outside world. The object exposes only essential operations or interfaces to the user, simplifying interaction.\n",
        "\n",
        "Ques-17 What is the difference between a class variable and an instance variable?\n",
        "\n",
        "Ans-17 In object-oriented programming (OOP), class variables and instance variables are two different types of variables that are associated with classes and objects. Here's a breakdown of their differences:\n",
        "\n",
        "1. Class Variable:\n",
        "\n",
        "Definition: A class variable is shared by all instances (objects) of a class. It is defined within the class but outside of any methods.\n",
        "\n",
        "Scope: It belongs to the class itself, not to any specific instance.\n",
        "\n",
        "Access: Class variables can be accessed using the class name or any instance of the class.\n",
        "\n",
        "Modification: If modified through an instance, it will affect the variable for all instances. If modified through the class, it will affect all instances as well.\n",
        "\n",
        "Usage: Class variables are used when you want to store a value that is common to all objects of a class.\n",
        "\n",
        "2. Instance Variable:\n",
        "\n",
        "Definition: An instance variable is a variable that is specific to an instance of the class. It is defined within the __init__ method (or other methods) using the self keyword.\n",
        "\n",
        "Scope: It belongs to a specific object or instance, meaning each object has its own copy of the instance variable.\n",
        "\n",
        "Access: Instance variables can only be accessed through an instance of the class.\n",
        "\n",
        "Modification: Modifying an instance variable will only affect the specific instance, not others.\n",
        "\n",
        "Usage: Instance variables are used to store data that is unique to each object.\n",
        "\n",
        "Ques-18 What is multiple inheritance in Python?\n",
        "\n",
        "Ans-18 Multiple inheritance refers to the ability of a class in Python to inherit attributes and methods from more than one parent class. This allows a child class to combine the behaviors (methods and attributes) of multiple base classes.\n",
        "\n",
        "In Python, a class can inherit from multiple classes by listing them in the parentheses when defining the class, separated by commas.\n",
        "\n",
        "Ques-19 Explain the purpose of ‘’__str__’ and ‘__repr__’ ‘ methods in PythonF.\n",
        "\n",
        "Ans-19 the __str__ and __repr__ methods are special (or \"magic\") methods that are used to define how objects of a class are represented as strings. These methods are called when an object is converted to a string, and they serve different purposes, depending on the context in which the object is used.\n",
        "\n",
        "1. __str__ Method:\n",
        "\n",
        "Purpose: The __str__ method is intended to return a human-readable, informal string representation of the object. It is used when you print an object or when you call str() on an object.\n",
        "\n",
        "When it's called:\n",
        "\n",
        "When you use the print() function with an object.\n",
        "When you explicitly convert an object to a string using str().\n",
        "\n",
        "Goal: The __str__ method should return a string that is easy to read and gives a clear understanding of the object for the end-user or for display purposes.\n",
        "\n",
        "2. __repr__ Method:\n",
        "Purpose: The __repr__ method is used to provide a more formal, unambiguous string representation of the object. It is meant to give a string that can, ideally, be used to recreate the object (if possible). It's the official string representation of the object and is often used for debugging.\n",
        "\n",
        "When it's called:\n",
        "\n",
        "When you call repr() on an object.\n",
        "When an object is evaluated in an interactive session (for example, in the Python REPL or when the object is displayed in a debugger).\n",
        "\n",
        "Goal: The __repr__ method should return a string that provides detailed information about the object, and ideally, the output of __repr__ should be a valid Python expression that can be used to recreate the object.\n",
        "\n",
        "Ques-20 What is the significance of the ‘super()’ function in Python?\n",
        "\n",
        "Ans-20 The super() function in Python is a built-in function used to call methods from a parent or sibling class in the context of class inheritance. It is especially useful in situations where you want to invoke a method in a superclass (or a class higher in the method resolution order) while avoiding direct reference to the parent class. This provides flexibility and supports multiple inheritance scenarios by ensuring that the correct method from the appropriate class is called.\n",
        "\n",
        "Ques-21 What is the significance of the __del__ method in Python?\n",
        "\n",
        "Ans-21 The __del__ method in Python is a special method known as a destructor. It is called when an object is about to be destroyed, meaning when it is garbage collected. The purpose of this method is to clean up or release any resources or perform necessary finalization before the object is removed from memory.\n",
        "\n",
        "Ques-22 What is the difference between @staticmethod and @classmethod in Python?\n",
        "\n",
        "Ans-22 Both @staticmethod and @classmethod are used to define methods that are not bound to an instance of the class, but they differ in how they behave and what they operate on.\n",
        "\n",
        "1. @staticmethod:\n",
        "\n",
        "Definition: A static method is a method that doesn't take self or cls as its first argument. It behaves like a regular function but belongs to the class's namespace.\n",
        "\n",
        "Use Case: Static methods do not have access to the instance (self) or the class (cls). They are typically used for utility functions that are related to the class but do not need to modify the class or instance state.\n",
        "\n",
        "Access: Static methods are not concerned with the state of the object or class. They only take the arguments passed to them, just like regular functions.\n",
        "\n",
        "How to define: You use the @staticmethod decorator to define a static method.\n",
        "\n",
        "2. @classmethod:\n",
        "\n",
        "Definition: A class method is a method that takes cls (the class itself) as its first argument. It can access and modify class-level attributes (not instance-level attributes).\n",
        "\n",
        "Use Case: Class methods are often used to create factory methods or methods that operate on the class itself, rather than on individual instances.\n",
        "\n",
        "Access: Class methods can access and modify class variables but not instance variables. They have access to the class, but not to the individual instance state.\n",
        "\n",
        "How to define: You use the @classmethod decorator to define a class method.\n",
        "\n",
        "Ques-23 How does polymorphism work in Python with inheritance?\n",
        "\n",
        "Ans-23 Polymorphism in Python allows objects of different classes to be treated as instances of the same class through inheritance. It is one of the core concepts of Object-Oriented Programming (OOP), and it enables a method to behave differently depending on the object calling it.\n",
        "\n",
        "Example of Polymorphism in Python with Inheritance:\n",
        "\n",
        "# Base class\n",
        "class Animal:\n",
        "    def speak(self):\n",
        "        print(\"Animal makes a sound\")\n",
        "\n",
        "# Derived class Dog\n",
        "class Dog(Animal):\n",
        "    def speak(self):\n",
        "        print(\"Dog barks\")\n",
        "\n",
        "# Derived class Cat\n",
        "class Cat(Animal):\n",
        "    def speak(self):\n",
        "        print(\"Cat meows\")\n",
        "\n",
        "# Function demonstrating polymorphism\n",
        "def animal_speak(animal):\n",
        "    animal.speak()\n",
        "\n",
        "# Creating objects of the derived classes\n",
        "dog = Dog()\n",
        "cat = Cat()\n",
        "\n",
        "# Polymorphism in action\n",
        "animal_speak(dog)  # Output: Dog barks\n",
        "animal_speak(cat)  # Output: Cat meows\n",
        "\n",
        "Ques-24 What is method chaining in Python OOP?\n",
        "\n",
        "Ans-24 Method chaining in Python (and object-oriented programming in general) refers to a technique where multiple methods are called on the same object in a single statement, one after the other. Each method call returns the object itself (or another object), allowing for the next method call to be invoked on the same object. This creates a fluent interface that makes the code more compact, readable, and expressive.\n",
        "\n",
        "Ques-25 What is the purpose of the __call__ method in Python?\n",
        "\n",
        "Ans-25 the __call__ method allows an instance of a class to be called like a function. This is a special method that, when defined in a class, makes instances of that class callable. In other words, when you create an object of a class that implements __call__, you can use that object as if it were a function and pass arguments to it.\n",
        "\n",
        "Purpose of __call__:\n",
        "The primary purpose of the __call__ method is to allow objects to behave like functions. This can be useful in scenarios where you want an object to encapsulate behavior that can be invoked like a function, without directly calling a method on the object.\n",
        "\n",
        "\n",
        "\n",
        "\n",
        "\n",
        "\n",
        "\n"
      ],
      "metadata": {
        "id": "EwErvgck-O6t"
      }
    },
    {
      "cell_type": "code",
      "source": [
        "# Create a parent class Animal with a method speak() that prints a generic message. Create a child class Dog\n",
        "#that overrides the speak() method to print \"Bark!\".\n",
        "# Parent class\n",
        "class Animal:\n",
        "    def speak(self):\n",
        "        print(\"The animal makes a sound.\")\n",
        "\n",
        "# Child class\n",
        "class Dog(Animal):\n",
        "    def speak(self):\n",
        "        print(\"Bark!\")\n",
        "\n",
        "# Example usage\n",
        "animal = Animal()\n",
        "animal.speak()  # Output: The animal makes a sound.\n",
        "\n",
        "dog = Dog()\n",
        "dog.speak()  # Output: Bark!\n",
        ""
      ],
      "metadata": {
        "colab": {
          "base_uri": "https://localhost:8080/"
        },
        "id": "zoEHqs5CRAeT",
        "outputId": "9978c1db-1830-437c-b0ba-3eeeba1e7010"
      },
      "execution_count": 1,
      "outputs": [
        {
          "output_type": "stream",
          "name": "stdout",
          "text": [
            "The animal makes a sound.\n",
            "Bark!\n"
          ]
        }
      ]
    },
    {
      "cell_type": "code",
      "source": [
        "# Write a program to create an abstract class Shape with a method area(). Derive classes Circle and Rectangle\n",
        "#from it and implement the area() method in both\n",
        "from abc import ABC, abstractmethod\n",
        "import math\n",
        "\n",
        "# Abstract base class\n",
        "class Shape(ABC):\n",
        "    @abstractmethod\n",
        "    def area(self):\n",
        "        pass\n",
        "\n",
        "# Derived class Circle\n",
        "class Circle(Shape):\n",
        "    def __init__(self, radius):\n",
        "        self.radius = radius\n",
        "\n",
        "    def area(self):\n",
        "        return math.pi * (self.radius ** 2)\n",
        "\n",
        "# Derived class Rectangle\n",
        "class Rectangle(Shape):\n",
        "    def __init__(self, length, width):\n",
        "        self.length = length\n",
        "        self.width = width\n",
        "\n",
        "    def area(self):\n",
        "        return self.length * self.width\n",
        "\n",
        "# Example usage\n",
        "circle = Circle(5)\n",
        "print(f\"Area of Circle: {circle.area()}\")\n",
        "\n",
        "rectangle = Rectangle(4, 6)\n",
        "print(f\"Area of Rectangle: {rectangle.area()}\")\n"
      ],
      "metadata": {
        "colab": {
          "base_uri": "https://localhost:8080/"
        },
        "id": "XbSeFVIKRxkZ",
        "outputId": "dc835278-b531-44d9-c558-aa654c6b26f4"
      },
      "execution_count": 2,
      "outputs": [
        {
          "output_type": "stream",
          "name": "stdout",
          "text": [
            "Area of Circle: 78.53981633974483\n",
            "Area of Rectangle: 24\n"
          ]
        }
      ]
    },
    {
      "cell_type": "code",
      "source": [
        "#  Implement a multi-level inheritance scenario where a class Vehicle has an attribute type. Derive a class Car\n",
        "#and further derive a class ElectricCar that adds a battery attribute\n",
        "# Base class\n",
        "class Vehicle:\n",
        "    def __init__(self, type):\n",
        "        self.type = type\n",
        "\n",
        "    def display_type(self):\n",
        "        print(f\"Vehicle Type: {self.type}\")\n",
        "\n",
        "# Derived class Car\n",
        "class Car(Vehicle):\n",
        "    def __init__(self, type, model):\n",
        "        super().__init__(type)  # Initialize the base class (Vehicle)\n",
        "        self.model = model\n",
        "\n",
        "    def display_model(self):\n",
        "        print(f\"Car Model: {self.model}\")\n",
        "\n",
        "# Further derived class ElectricCar\n",
        "class ElectricCar(Car):\n",
        "    def __init__(self, type, model, battery):\n",
        "        super().__init__(type, model)  # Initialize the parent class (Car)\n",
        "        self.battery = battery\n",
        "\n",
        "    def display_battery(self):\n",
        "        print(f\"Battery Capacity: {self.battery} kWh\")\n",
        "\n",
        "# Example usage\n",
        "vehicle = Vehicle(\"General Vehicle\")\n",
        "vehicle.display_type()\n",
        "\n",
        "car = Car(\"Car\", \"Sedan\")\n",
        "car.display_type()\n",
        "car.display_model()\n",
        "\n",
        "electric_car = ElectricCar(\"Electric Car\", \"Model S\", 75)\n",
        "electric_car.display_type()\n",
        "electric_car.display_model()\n",
        "electric_car.display_battery()\n"
      ],
      "metadata": {
        "colab": {
          "base_uri": "https://localhost:8080/"
        },
        "id": "FdCs62T6R__I",
        "outputId": "c132ab56-9c34-4917-d6c2-06c624aa5573"
      },
      "execution_count": 3,
      "outputs": [
        {
          "output_type": "stream",
          "name": "stdout",
          "text": [
            "Vehicle Type: General Vehicle\n",
            "Vehicle Type: Car\n",
            "Car Model: Sedan\n",
            "Vehicle Type: Electric Car\n",
            "Car Model: Model S\n",
            "Battery Capacity: 75 kWh\n"
          ]
        }
      ]
    },
    {
      "cell_type": "code",
      "source": [
        "#.Write a program to demonstrate encapsulation by creating a class BankAccount with private attributes\n",
        "#balance and methods to deposit, withdraw, and check balance.\n",
        "class BankAccount:\n",
        "    def __init__(self, initial_balance):\n",
        "        # Private attribute\n",
        "        self.__balance = initial_balance\n",
        "\n",
        "    # Public method to deposit money\n",
        "    def deposit(self, amount):\n",
        "        if amount > 0:\n",
        "            self.__balance += amount\n",
        "            print(f\"Deposited: ${amount}\")\n",
        "        else:\n",
        "            print(\"Deposit amount must be positive.\")\n",
        "\n",
        "    # Public method to withdraw money\n",
        "    def withdraw(self, amount):\n",
        "        if amount > 0:\n",
        "            if self.__balance >= amount:\n",
        "                self.__balance -= amount\n",
        "                print(f\"Withdrew: ${amount}\")\n",
        "            else:\n",
        "                print(\"Insufficient balance.\")\n",
        "        else:\n",
        "            print(\"Withdrawal amount must be positive.\")\n",
        "\n",
        "    # Public method to check balance\n",
        "    def check_balance(self):\n",
        "        print(f\"Current balance: ${self.__balance}\")\n",
        "\n",
        "# Example usage\n",
        "account = BankAccount(1000)  # Create a BankAccount object with an initial balance of 1000\n",
        "account.check_balance()  # Display the current balance\n",
        "\n",
        "account.deposit(500)  # Deposit 500\n",
        "account.check_balance()\n",
        "\n",
        "account.withdraw(200)  # Withdraw 200\n",
        "account.check_balance()\n",
        "\n",
        "account.withdraw(1500)  # Try withdrawing more than the balance\n",
        "\n"
      ],
      "metadata": {
        "colab": {
          "base_uri": "https://localhost:8080/"
        },
        "id": "cPhmr61RSV7v",
        "outputId": "66992a60-7a41-4ee5-cbe2-e1e3df6a2db3"
      },
      "execution_count": 4,
      "outputs": [
        {
          "output_type": "stream",
          "name": "stdout",
          "text": [
            "Current balance: $1000\n",
            "Deposited: $500\n",
            "Current balance: $1500\n",
            "Withdrew: $200\n",
            "Current balance: $1300\n",
            "Insufficient balance.\n"
          ]
        }
      ]
    },
    {
      "cell_type": "code",
      "source": [
        "# Demonstrate runtime polymorphism using a method play() in a base class Instrument. Derive classes Guitar\n",
        "#and Piano that implement their own version of play().\n",
        "# Base class\n",
        "class Instrument:\n",
        "    def play(self):\n",
        "        print(\"The instrument is being played.\")\n",
        "\n",
        "# Derived class Guitar\n",
        "class Guitar(Instrument):\n",
        "    def play(self):\n",
        "        print(\"Playing the guitar.\")\n",
        "\n",
        "# Derived class Piano\n",
        "class Piano(Instrument):\n",
        "    def play(self):\n",
        "        print(\"Playing the piano.\")\n",
        "\n",
        "# Example usage\n",
        "def perform_play(instrument):\n",
        "    instrument.play()  # Calls the appropriate play() method based on the object type\n",
        "\n",
        "# Create objects\n",
        "guitar = Guitar()\n",
        "piano = Piano()\n",
        "\n",
        "# Demonstrate runtime polymorphism\n",
        "perform_play(guitar)  # Output: Playing the guitar.\n",
        "perform_play(piano)   # Output: Playing the piano.\n"
      ],
      "metadata": {
        "colab": {
          "base_uri": "https://localhost:8080/"
        },
        "id": "1R_Bgt5cS7f8",
        "outputId": "b79bd4e6-0a91-4f0a-a954-28556fc70c12"
      },
      "execution_count": 5,
      "outputs": [
        {
          "output_type": "stream",
          "name": "stdout",
          "text": [
            "Playing the guitar.\n",
            "Playing the piano.\n"
          ]
        }
      ]
    },
    {
      "cell_type": "code",
      "source": [
        "# Create a class MathOperations with a class method add_numbers() to add two numbers and a static\n",
        "#method subtract_numbers() to subtract two numbers.\n",
        "class MathOperations:\n",
        "\n",
        "    @classmethod\n",
        "    def add_numbers(cls, a, b):\n",
        "        # Class method to add two numbers\n",
        "        return a + b\n",
        "\n",
        "    @staticmethod\n",
        "    def subtract_numbers(a, b):\n",
        "        # Static method to subtract two numbers\n",
        "        return a - b\n",
        "\n",
        "# Example usage\n",
        "result_addition = MathOperations.add_numbers(10, 5)  # Using the class method to add numbers\n",
        "result_subtraction = MathOperations.subtract_numbers(10, 5)  # Using the static method to subtract numbers\n",
        "\n",
        "print(f\"Addition Result: {result_addition}\")\n",
        "print(f\"Subtraction Result: {result_subtraction}\")\n"
      ],
      "metadata": {
        "colab": {
          "base_uri": "https://localhost:8080/"
        },
        "id": "izfUWEO6TKBa",
        "outputId": "d993f319-dda2-4feb-b942-02caeea48ab0"
      },
      "execution_count": 6,
      "outputs": [
        {
          "output_type": "stream",
          "name": "stdout",
          "text": [
            "Addition Result: 15\n",
            "Subtraction Result: 5\n"
          ]
        }
      ]
    },
    {
      "cell_type": "code",
      "source": [
        "# Implement a class Person with a class method to count the total number of persons created\n",
        "class Person:\n",
        "    # Class variable to keep track of the number of persons created\n",
        "    total_persons = 0\n",
        "\n",
        "    def __init__(self, name, age):\n",
        "        self.name = name\n",
        "        self.age = age\n",
        "        # Increment the count of total persons each time a new Person is created\n",
        "        Person.total_persons += 1\n",
        "\n",
        "    @classmethod\n",
        "    def get_total_persons(cls):\n",
        "        # Class method to return the total number of persons created\n",
        "        return cls.total_persons\n",
        "\n",
        "# Example usage\n",
        "person1 = Person(\"Alice\", 30)\n",
        "person2 = Person(\"Bob\", 25)\n",
        "\n",
        "# Get the total number of persons created\n",
        "print(f\"Total number of persons created: {Person.get_total_persons()}\")\n",
        "\n",
        "person3 = Person(\"Charlie\", 35)\n",
        "\n",
        "# Get the updated total number of persons created\n",
        "print(f\"Total number of persons created: {Person.get_total_persons()}\")\n"
      ],
      "metadata": {
        "colab": {
          "base_uri": "https://localhost:8080/"
        },
        "id": "oYOReny-TT4o",
        "outputId": "14c8dc85-16c4-4a77-839a-b68574d61c59"
      },
      "execution_count": 7,
      "outputs": [
        {
          "output_type": "stream",
          "name": "stdout",
          "text": [
            "Total number of persons created: 2\n",
            "Total number of persons created: 3\n"
          ]
        }
      ]
    },
    {
      "cell_type": "code",
      "source": [
        "#Write a class Fraction with attributes numerator and denominator. Override the str method to display the\n",
        "#fraction as \"numerator/denominator\".\n",
        "class Fraction:\n",
        "    def __init__(self, numerator, denominator):\n",
        "        self.numerator = numerator\n",
        "        self.denominator = denominator\n",
        "\n",
        "    def __str__(self):\n",
        "        return f\"{self.numerator}/{self.denominator}\"\n",
        "\n",
        "# Example usage\n",
        "fraction1 = Fraction(3, 4)\n",
        "fraction2 = Fraction(5, 6)\n",
        "\n",
        "print(fraction1)  # Output: 3/4\n",
        "print(fraction2)  # Output: 5/6\n"
      ],
      "metadata": {
        "colab": {
          "base_uri": "https://localhost:8080/"
        },
        "id": "JcysUaOaTcfM",
        "outputId": "5aaaa7c4-dc68-4278-a3bd-b6b595059315"
      },
      "execution_count": 8,
      "outputs": [
        {
          "output_type": "stream",
          "name": "stdout",
          "text": [
            "3/4\n",
            "5/6\n"
          ]
        }
      ]
    },
    {
      "cell_type": "code",
      "source": [
        "#Demonstrate operator overloading by creating a class Vector and overriding the add method to add two\n",
        "#vectors.\n",
        "class Vector:\n",
        "    def __init__(self, x, y):\n",
        "        self.x = x\n",
        "        self.y = y\n",
        "\n",
        "    # Overloading the '+' operator using the __add__ method\n",
        "    def __add__(self, other):\n",
        "        if isinstance(other, Vector):  # Ensure the other object is also a Vector\n",
        "            return Vector(self.x + other.x, self.y + other.y)\n",
        "        return NotImplemented\n",
        "\n",
        "    def __str__(self):\n",
        "        return f\"({self.x}, {self.y})\"\n",
        "\n",
        "# Example usage\n",
        "v1 = Vector(1, 2)\n",
        "v2 = Vector(3, 4)\n",
        "\n",
        "# Using the overloaded '+' operator to add the two vectors\n",
        "v3 = v1 + v2\n",
        "\n",
        "print(f\"v1: {v1}\")  # Output: v1: (1, 2)\n",
        "print(f\"v2: {v2}\")  # Output: v2: (3, 4)\n",
        "print(f\"v1 + v2 = {v3}\")  # Output: v1 + v2 = (4, 6)\n"
      ],
      "metadata": {
        "colab": {
          "base_uri": "https://localhost:8080/"
        },
        "id": "6agkJJE4TpOH",
        "outputId": "9a88fa2a-8bd2-44d8-8e6d-18a3cbbded56"
      },
      "execution_count": 9,
      "outputs": [
        {
          "output_type": "stream",
          "name": "stdout",
          "text": [
            "v1: (1, 2)\n",
            "v2: (3, 4)\n",
            "v1 + v2 = (4, 6)\n"
          ]
        }
      ]
    },
    {
      "cell_type": "code",
      "source": [
        "#Create a class Person with attributes name and age. Add a method greet() that prints \"Hello, my name is\n",
        "#{name} and I am {age} years old.\n",
        "class Person:\n",
        "    def __init__(self, name, age):\n",
        "        self.name = name\n",
        "        self.age = age\n",
        "\n",
        "    def greet(self):\n",
        "        print(f\"Hello, my name is {self.name} and I am {self.age} years old.\")\n",
        "\n",
        "# Example usage:\n",
        "person = Person(\"John\", 30)\n",
        "person.greet()\n"
      ],
      "metadata": {
        "colab": {
          "base_uri": "https://localhost:8080/"
        },
        "id": "coTCP9UNTzIF",
        "outputId": "c3733d58-ef22-4e59-815f-bd8f83c7b0bc"
      },
      "execution_count": 10,
      "outputs": [
        {
          "output_type": "stream",
          "name": "stdout",
          "text": [
            "Hello, my name is John and I am 30 years old.\n"
          ]
        }
      ]
    },
    {
      "cell_type": "code",
      "source": [
        "# Implement a class Student with attributes name and grades. Create a method average_grade() to compute\n",
        "#the average of the grades.\n",
        "class Student:\n",
        "    def __init__(self, name, grades):\n",
        "        self.name = name\n",
        "        self.grades = grades\n",
        "\n",
        "    def average_grade(self):\n",
        "        if len(self.grades) > 0:\n",
        "            return sum(self.grades) / len(self.grades)\n",
        "        else:\n",
        "            return 0  # If no grades, return 0\n",
        "\n",
        "# Example usage:\n",
        "student = Student(\"Alice\", [85, 90, 78, 92])\n",
        "print(f\"{student.name}'s average grade is {student.average_grade()}\")\n"
      ],
      "metadata": {
        "colab": {
          "base_uri": "https://localhost:8080/"
        },
        "id": "lTbelL3ZT-t4",
        "outputId": "a448be3c-2762-4fe0-9e37-169966eade2f"
      },
      "execution_count": 11,
      "outputs": [
        {
          "output_type": "stream",
          "name": "stdout",
          "text": [
            "Alice's average grade is 86.25\n"
          ]
        }
      ]
    },
    {
      "cell_type": "code",
      "source": [
        "#Create a class Rectangle with methods set_dimensions() to set the dimensions and area() to calculate the\n",
        "#area\n",
        "class Rectangle:\n",
        "    def __init__(self):\n",
        "        self.width = 0\n",
        "        self.height = 0\n",
        "\n",
        "    def set_dimensions(self, width, height):\n",
        "        self.width = width\n",
        "        self.height = height\n",
        "\n",
        "    def area(self):\n",
        "        return self.width * self.height\n",
        "\n",
        "# Example usage:\n",
        "rect = Rectangle()\n",
        "rect.set_dimensions(5, 10)\n",
        "print(f\"The area of the rectangle is {rect.area()} square units.\")\n"
      ],
      "metadata": {
        "colab": {
          "base_uri": "https://localhost:8080/"
        },
        "id": "_IJPNtmPUJVP",
        "outputId": "71acdacf-917e-4c8f-f680-8cf5207dfdbf"
      },
      "execution_count": 12,
      "outputs": [
        {
          "output_type": "stream",
          "name": "stdout",
          "text": [
            "The area of the rectangle is 50 square units.\n"
          ]
        }
      ]
    },
    {
      "cell_type": "code",
      "source": [
        "# Create a class Employee with a method calculate_salary() that computes the salary based on hours worked\n",
        "#and hourly rate. Create a derived class Manager that adds a bonus to the salary.\n",
        "class Employee:\n",
        "    def __init__(self, name, hours_worked, hourly_rate):\n",
        "        self.name = name\n",
        "        self.hours_worked = hours_worked\n",
        "        self.hourly_rate = hourly_rate\n",
        "\n",
        "    def calculate_salary(self):\n",
        "        return self.hours_worked * self.hourly_rate\n",
        "\n",
        "# Derived class Manager\n",
        "class Manager(Employee):\n",
        "    def __init__(self, name, hours_worked, hourly_rate, bonus):\n",
        "        super().__init__(name, hours_worked, hourly_rate)\n",
        "        self.bonus = bonus\n",
        "\n",
        "    def calculate_salary(self):\n",
        "        # Calculate the base salary and then add the bonus\n",
        "        base_salary = super().calculate_salary()\n",
        "        return base_salary + self.bonus\n",
        "\n",
        "# Example usage:\n",
        "employee = Employee(\"John\", 40, 20)\n",
        "print(f\"{employee.name}'s salary is {employee.calculate_salary()}.\")\n",
        "\n",
        "manager = Manager(\"Sarah\", 40, 30, 500)\n",
        "print(f\"{manager.name}'s salary (including bonus) is {manager.calculate_salary()}.\")\n"
      ],
      "metadata": {
        "colab": {
          "base_uri": "https://localhost:8080/"
        },
        "id": "PxiQb-XkUUdL",
        "outputId": "ec5389c9-cb33-440d-f118-b1fa65847440"
      },
      "execution_count": 13,
      "outputs": [
        {
          "output_type": "stream",
          "name": "stdout",
          "text": [
            "John's salary is 800.\n",
            "Sarah's salary (including bonus) is 1700.\n"
          ]
        }
      ]
    },
    {
      "cell_type": "code",
      "source": [
        "#Create a class Product with attributes name, price, and quantity. Implement a method total_price() that\n",
        "#calculates the total price of the product.\n",
        "class Product:\n",
        "    def __init__(self, name, price, quantity):\n",
        "        self.name = name\n",
        "        self.price = price\n",
        "        self.quantity = quantity\n",
        "\n",
        "    def total_price(self):\n",
        "        return self.price * self.quantity\n",
        "\n",
        "# Example usage:\n",
        "product = Product(\"Laptop\", 1000, 3)\n",
        "print(f\"The total price for {product.quantity} {product.name}(s) is ${product.total_price()}.\")\n"
      ],
      "metadata": {
        "colab": {
          "base_uri": "https://localhost:8080/"
        },
        "id": "MYgszehKUjCu",
        "outputId": "1faa3b8f-1a7c-448a-96c9-e9c9845f4627"
      },
      "execution_count": 14,
      "outputs": [
        {
          "output_type": "stream",
          "name": "stdout",
          "text": [
            "The total price for 3 Laptop(s) is $3000.\n"
          ]
        }
      ]
    },
    {
      "cell_type": "code",
      "source": [
        "#Create a class Animal with an abstract method sound(). Create two derived classes Cow and Sheep that\n",
        "#implement the sound() method.\n",
        "from abc import ABC, abstractmethod\n",
        "\n",
        "# Abstract base class\n",
        "class Animal(ABC):\n",
        "    @abstractmethod\n",
        "    def sound(self):\n",
        "        pass\n",
        "\n",
        "# Derived class Cow\n",
        "class Cow(Animal):\n",
        "    def sound(self):\n",
        "        return \"Moo\"\n",
        "\n",
        "# Derived class Sheep\n",
        "class Sheep(Animal):\n",
        "    def sound(self):\n",
        "        return \"Baa\"\n",
        "\n",
        "# Example usage:\n",
        "cow = Cow()\n",
        "sheep = Sheep()\n",
        "\n",
        "print(f\"The cow says: {cow.sound()}\")\n",
        "print(f\"The sheep says: {sheep.sound()}\")\n"
      ],
      "metadata": {
        "colab": {
          "base_uri": "https://localhost:8080/"
        },
        "id": "r7NQmO_3UwsV",
        "outputId": "edb76cb0-0b9e-42dd-c744-bfdc45e6e909"
      },
      "execution_count": 15,
      "outputs": [
        {
          "output_type": "stream",
          "name": "stdout",
          "text": [
            "The cow says: Moo\n",
            "The sheep says: Baa\n"
          ]
        }
      ]
    },
    {
      "cell_type": "code",
      "source": [
        "#Create a class Book with attributes title, author, and year_published. Add a method get_book_info() that\n",
        "#returns a formatted string with the book's details.\n",
        "class Book:\n",
        "    def __init__(self, title, author, year_published):\n",
        "        self.title = title\n",
        "        self.author = author\n",
        "        self.year_published = year_published\n",
        "\n",
        "    def get_book_info(self):\n",
        "        return f\"Title: {self.title}\\nAuthor: {self.author}\\nYear Published: {self.year_published}\"\n",
        "\n",
        "# Example usage:\n",
        "book = Book(\"1984\", \"George Orwell\", 1949)\n",
        "print(book.get_book_info())\n"
      ],
      "metadata": {
        "colab": {
          "base_uri": "https://localhost:8080/"
        },
        "id": "j-XgzxKbU9BT",
        "outputId": "7c79de63-b2bf-41b8-f99c-349599f2ee4a"
      },
      "execution_count": 16,
      "outputs": [
        {
          "output_type": "stream",
          "name": "stdout",
          "text": [
            "Title: 1984\n",
            "Author: George Orwell\n",
            "Year Published: 1949\n"
          ]
        }
      ]
    },
    {
      "cell_type": "code",
      "source": [
        "#Create a class House with attributes address and price. Create a derived class Mansion that adds an\n",
        "#attribute number_of_rooms.\n",
        "# Base class House\n",
        "class House:\n",
        "    def __init__(self, address, price):\n",
        "        self.address = address\n",
        "        self.price = price\n",
        "\n",
        "    def get_house_info(self):\n",
        "        return f\"Address: {self.address}\\nPrice: ${self.price}\"\n",
        "\n",
        "# Derived class Mansion\n",
        "class Mansion(House):\n",
        "    def __init__(self, address, price, number_of_rooms):\n",
        "        super().__init__(address, price)  # Call the constructor of the base class\n",
        "        self.number_of_rooms = number_of_rooms\n",
        "\n",
        "    def get_mansion_info(self):\n",
        "        # Get the information from the base class and add the number of rooms\n",
        "        return f\"{self.get_house_info()}\\nNumber of Rooms: {self.number_of_rooms}\"\n",
        "\n",
        "# Example usage:\n",
        "house = House(\"123 Elm St\", 250000)\n",
        "mansion = Mansion(\"456 Oak Ave\", 5000000, 15)\n",
        "\n",
        "print(house.get_house_info())\n",
        "print()\n",
        "print(mansion.get_mansion_info())\n"
      ],
      "metadata": {
        "colab": {
          "base_uri": "https://localhost:8080/"
        },
        "id": "iJHaC8DgVJFz",
        "outputId": "1276a46f-bb1f-4954-9577-007cd0f78478"
      },
      "execution_count": 17,
      "outputs": [
        {
          "output_type": "stream",
          "name": "stdout",
          "text": [
            "Address: 123 Elm St\n",
            "Price: $250000\n",
            "\n",
            "Address: 456 Oak Ave\n",
            "Price: $5000000\n",
            "Number of Rooms: 15\n"
          ]
        }
      ]
    },
    {
      "cell_type": "code",
      "source": [],
      "metadata": {
        "id": "NZ_I7WejVZ5U"
      },
      "execution_count": null,
      "outputs": []
    }
  ]
}